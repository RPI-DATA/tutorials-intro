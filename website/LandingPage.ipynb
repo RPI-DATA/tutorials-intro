{
  "nbformat": 4,
  "nbformat_minor": 0,
  "metadata": {
    "colab": {
      "name": "LandingPage.ipynb",
      "version": "0.3.2",
      "provenance": []
    },
    "language_info": {
      "codemirror_mode": {
        "name": "ipython",
        "version": 3
      },
      "file_extension": ".py",
      "mimetype": "text/x-python",
      "name": "python",
      "nbconvert_exporter": "python",
      "pygments_lexer": "ipython3",
      "version": "3.7.1"
    },
    "kernelspec": {
      "display_name": "Python 3",
      "language": "python",
      "name": "python3"
    }
  },
  "cells": [
    {
      "metadata": {
        "id": "nso7kEbyEdgk",
        "colab_type": "text"
      },
      "cell_type": "markdown",
      "source": [
        "<a href=\"https://colab.research.google.com/github/RPI-DATA/tutorials-intro/blob/master/website/LandingPage.ipynb\" target=\"_blank\"> <img src=\"https://colab.research.google.com/assets/colab-badge.svg\" alt=\"Open in Colab\"> </a>\n",
        "\n",
        "<img src=\"https://raw.githubusercontent.com/leondonglh/PCAresearch/master/data-rpi_logo.jpg\" width=\"75%\">"
      ]
    },
    {
      "metadata": {
        "id": "cbYpq5c1Edgm",
        "colab_type": "text"
      },
      "cell_type": "markdown",
      "source": [
        "Welcome to DATA@RENSSELAR, a platform for enabling data science across the curriculum.\n",
        "\n",
        "We are an open source project that helps analytics programs to both create a community and deliver the highest quality education experience in the rapidly changing world of analytics and data science."
      ]
    },
    {
      "metadata": {
        "id": "5WjqMjGcEdgn",
        "colab_type": "text"
      },
      "cell_type": "markdown",
      "source": [
        "## Learning Stack\n",
        "Currently the learning stack associated with these courses includes:\n",
        "\n",
        "1. Jupyter\n",
        "2. GitHub Classroom\n",
        "3. Slack\n",
        "4. [coming soon] autograding"
      ]
    },
    {
      "metadata": {
        "id": "lirsA0IEEdgo",
        "colab_type": "text"
      },
      "cell_type": "markdown",
      "source": [
        "Our idea is by adopting a common technology stack across different classes, we will be better able to coordinate learning."
      ]
    },
    {
      "metadata": {
        "id": "DP5IbBCcEdgo",
        "colab_type": "text"
      },
      "cell_type": "markdown",
      "source": [
        "## Contact Us\n",
        "\n",
        "Email [lewisd2@rpi.edu](mailto:lewisd2@rpi.edu) and [kuruzj@rpi.edu](mailto:kuruzj@rpi.edu)"
      ]
    },
    {
      "metadata": {
        "id": "BzXU2drxEdgp",
        "colab_type": "text"
      },
      "cell_type": "markdown",
      "source": [
        "<a href=\"https://colab.research.google.com/github/RPI-DATA/tutorials-intro/blob/master/website/LandingPage.ipynb\" target=\"_blank\"> <img src=\"https://colab.research.google.com/assets/colab-badge.svg\" alt=\"Open in Colab\"> </a>"
      ]
    }
  ]
}