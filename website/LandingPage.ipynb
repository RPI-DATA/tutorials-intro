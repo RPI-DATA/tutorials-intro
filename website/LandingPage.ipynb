{
 "cells": [
  {
   "cell_type": "markdown",
   "metadata": {},
   "source": [
    "<a href=\"https://colab.research.google.com/drive/1s3-OohP5G6UAg4dmOmBJwuhN8V6ymKNh\" target=\"_blank\"> <img src=\"https://colab.research.google.com/assets/colab-badge.svg\" alt=\"Open in Colab\"> </a>\n",
    "<img src=\"https://raw.githubusercontent.com/leondonglh/PCAresearch/master/data-rpi_logo.jpg\" width=\"75%\">"
   ]
  },
  {
   "cell_type": "markdown",
   "metadata": {},
   "source": [
    "Welcome to DATA@RENSSELAR, a platform for enabling data science across the curriculum.\n",
    "\n",
    "We are an open source project that helps analytics programs to both create a community and deliver the highest quality education experience in the rapidly changing world of analytics and data science."
   ]
  },
  {
   "cell_type": "markdown",
   "metadata": {},
   "source": [
    "## Learning Stack\n",
    "Currently the learning stack associated with these courses includes:\n",
    "\n",
    "1. Jupyter\n",
    "2. GitHub Classroom\n",
    "3. Slack\n",
    "4. [coming soon] autograding"
   ]
  },
  {
   "cell_type": "markdown",
   "metadata": {},
   "source": [
    "Our idea is by adopting a common technology stack across different classes, we will be better able to coordinate learning."
   ]
  },
  {
   "cell_type": "markdown",
   "metadata": {},
   "source": [
    "## Contact Us\n",
    "\n",
    "Email [lewisd2@rpi.edu](mailto:lewisd2@rpi.edu) and [kuruzj@rpi.edu](mailto:kuruzj@rpi.edu)"
   ]
  },
  {
   "cell_type": "markdown",
   "metadata": {},
   "source": [
    "<a href=\"https://colab.research.google.com/drive/1s3-OohP5G6UAg4dmOmBJwuhN8V6ymKNh\" target=\"_blank\"> <img src=\"https://colab.research.google.com/assets/colab-badge.svg\" alt=\"Open in Colab\"> </a>"
   ]
  }
 ],
 "metadata": {
  "kernelspec": {
   "display_name": "Python 3",
   "language": "python",
   "name": "python3"
  },
  "language_info": {
   "codemirror_mode": {
    "name": "ipython",
    "version": 3
   },
   "file_extension": ".py",
   "mimetype": "text/x-python",
   "name": "python",
   "nbconvert_exporter": "python",
   "pygments_lexer": "ipython3",
   "version": "3.7.1"
  }
 },
 "nbformat": 4,
 "nbformat_minor": 2
}
